{
 "cells": [
  {
   "cell_type": "code",
   "execution_count": 1,
   "metadata": {},
   "outputs": [],
   "source": [
    "import numpy as np\n",
    "import cv2"
   ]
  },
  {
   "cell_type": "code",
   "execution_count": 4,
   "metadata": {},
   "outputs": [],
   "source": [
    "image = cv2.imread('./lena.jpg')\n",
    "gray = cv2.cvtColor(image, code=cv2.COLOR_BGR2GRAY)\n",
    "# 加载算法\n",
    "eye_detector = cv2.CascadeClassifier('./haarcascade_eye.xml')\n",
    "\n",
    "eye_zone = eye_detector.detectMultiScale(gray, scaleFactor=1.3, minNeighbors=3, minSize=(10, 10), maxSize=(80, 80))\n",
    "\n",
    "for x,y,w,h in eye_zone:\n",
    "    cv2.rectangle(image, pt1=(x, y), pt2=(x+w, y+h), color=[0,0,255], thickness=1)\n",
    "\n",
    "cv2.imshow('lena', image)\n",
    "cv2.waitKey(0)\n",
    "cv2.destroyAllWindows()"
   ]
  },
  {
   "cell_type": "code",
   "execution_count": 2,
   "metadata": {},
   "outputs": [
    {
     "ename": "TypeError",
     "evalue": "tuple indices must be integers or slices, not tuple",
     "output_type": "error",
     "traceback": [
      "\u001b[1;31m---------------------------------------------------------------------------\u001b[0m",
      "\u001b[1;31mTypeError\u001b[0m                                 Traceback (most recent call last)",
      "\u001b[1;32m<ipython-input-2-3f4dfd689fe4>\u001b[0m in \u001b[0;36m<module>\u001b[1;34m()\u001b[0m\n\u001b[0;32m     16\u001b[0m \u001b[1;33m\u001b[0m\u001b[0m\n\u001b[0;32m     17\u001b[0m \u001b[1;31m# 上半脸高度\u001b[0m\u001b[1;33m\u001b[0m\u001b[1;33m\u001b[0m\u001b[0m\n\u001b[1;32m---> 18\u001b[1;33m \u001b[0mh_up\u001b[0m \u001b[1;33m=\u001b[0m \u001b[0mint\u001b[0m\u001b[1;33m(\u001b[0m\u001b[0mface_zone\u001b[0m\u001b[1;33m[\u001b[0m\u001b[1;36m0\u001b[0m\u001b[1;33m,\u001b[0m\u001b[1;33m-\u001b[0m\u001b[1;36m1\u001b[0m\u001b[1;33m]\u001b[0m\u001b[1;33m*\u001b[0m\u001b[1;36m0.6\u001b[0m\u001b[1;33m)\u001b[0m\u001b[1;33m\u001b[0m\u001b[0m\n\u001b[0m\u001b[0;32m     19\u001b[0m \u001b[1;33m\u001b[0m\u001b[0m\n\u001b[0;32m     20\u001b[0m \u001b[0mx\u001b[0m\u001b[1;33m,\u001b[0m \u001b[0my\u001b[0m\u001b[1;33m,\u001b[0m \u001b[0mw\u001b[0m\u001b[1;33m,\u001b[0m \u001b[0mh\u001b[0m \u001b[1;33m=\u001b[0m \u001b[0mface_zone\u001b[0m\u001b[1;33m.\u001b[0m\u001b[0mreshape\u001b[0m\u001b[1;33m(\u001b[0m\u001b[1;33m-\u001b[0m\u001b[1;36m1\u001b[0m\u001b[1;33m)\u001b[0m\u001b[1;33m\u001b[0m\u001b[0m\n",
      "\u001b[1;31mTypeError\u001b[0m: tuple indices must be integers or slices, not tuple"
     ]
    }
   ],
   "source": [
    "# 识别眼睛， 嘴巴， 人脸\n",
    "\n",
    "image = cv2.imread('./fei2.jpg')\n",
    "gray = cv2.cvtColor(image, code=cv2.COLOR_BGR2GRAY)\n",
    "\n",
    "# 加载算法\n",
    "face_detector = cv2.CascadeClassifier('./haarcascade_frontalface_default.xml')\n",
    "eye_detector = cv2.CascadeClassifier('./haarcascade_eye.xml')\n",
    "mouth_detector = cv2.CascadeClassifier('./haarcascade_mcs_mouth.xml')\n",
    "\n",
    "# 首先检测人脸\n",
    "face_zone = face_detector.detectMultiScale(gray, 1.2, 3, minSize=(80, 80))\n",
    "\n",
    "for x,y,w,h in face_zone:\n",
    "    cv2.rectangle(image, pt1=(x, y), pt2 = (x+w, y+h), color=[0,0,255], thickness=2)\n",
    "    \n",
    "# 上半脸高度\n",
    "h_up = int(face_zone[0,-1]*0.6)\n",
    "\n",
    "x, y, w, h = face_zone.reshape(-1)\n",
    "    \n",
    "# 头部\n",
    "head = gray[y:y + h, x:x+w]\n",
    "head_up = head[0:h_up]\n",
    "head_down = head[h_up: ]\n",
    "\n",
    "eye = cv2.imread('./eye.jpg')\n",
    "# 检测眼睛\n",
    "eye_zones = eye_detector.detectMultiScale(head_up, 1.1, 3, minSize=(15, 15))\n",
    "\n",
    "for ex,ey,ew,eh in eye_zones:\n",
    "    \n",
    "#     给替换使用的图片\n",
    "    eye2 = cv2.resize(eye,dsize=(ew, eh))\n",
    "    \n",
    "    # 替换\n",
    "    image[y+ey: y+ey+eh, x+ex: x+ex+ew] = eye2\n",
    "#     cv2.rectangle(image, pt1=(ex + x, ey + y), pt2=(ex + ew + x, ey + eh + y), color=[0, 255, 0], thickness=1)\n",
    "\n",
    "mouth_zones = mouth_detector.detectMultiScale(head_down, 1.1, 3, minSize=(40, 20))\n",
    "\n",
    "mouth = cv2.imread('./mouth.png')\n",
    "# 检测嘴\n",
    "for mx,my,mw,mh in mouth_zones:\n",
    "    mouth2 = cv2.resize(mouth, dsize=(mw, mh))\n",
    "    \n",
    "    # 替换\n",
    "    image[y+my+h_up: y+my+mh+h_up, x+mx: x+mx+mw] = mouth2\n",
    "    \n",
    "#     cv2.rectangle(image, pt1=(mx + x, my + y + h_up), pt2 = (x+mx+mw, y+my+mh+h_up), color=[0, 255, 0], thickness=1)\n",
    "\n",
    "cv2.imshow('face', image)\n",
    "\n",
    "cv2.waitKey(0)\n",
    "cv2.destroyAllWindows()"
   ]
  },
  {
   "cell_type": "code",
   "execution_count": 10,
   "metadata": {},
   "outputs": [],
   "source": [
    "import matplotlib.pyplot as plt\n",
    "plt.imshow(head_down, cmap='gray')"
   ]
  }
 ],
 "metadata": {
  "kernelspec": {
   "display_name": "Python 3",
   "language": "python",
   "name": "python3"
  },
  "language_info": {
   "codemirror_mode": {
    "name": "ipython",
    "version": 3
   },
   "file_extension": ".py",
   "mimetype": "text/x-python",
   "name": "python",
   "nbconvert_exporter": "python",
   "pygments_lexer": "ipython3",
   "version": "3.6.5"
  }
 },
 "nbformat": 4,
 "nbformat_minor": 2
}
