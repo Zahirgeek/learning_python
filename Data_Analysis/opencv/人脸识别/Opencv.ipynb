{
 "cells": [
  {
   "cell_type": "code",
   "execution_count": 2,
   "metadata": {},
   "outputs": [],
   "source": [
    "# open computer vision计算机视觉\n",
    "\n",
    "# pip install opencv_python,opencv用C++写的\n",
    "# 在python库中，所有的调用，放到模块cv2下面\n",
    "import cv2"
   ]
  },
  {
   "cell_type": "code",
   "execution_count": 3,
   "metadata": {},
   "outputs": [
    {
     "data": {
      "text/plain": [
       "(3252, 5780, 3)"
      ]
     },
     "execution_count": 3,
     "metadata": {},
     "output_type": "execute_result"
    }
   ],
   "source": [
    "chongqin1 = cv2.imread('./chongqin.jpg')\n",
    "chongqin1.shape"
   ]
  },
  {
   "cell_type": "code",
   "execution_count": 4,
   "metadata": {},
   "outputs": [
    {
     "ename": "TypeError",
     "evalue": "an integer is required (got type str)",
     "output_type": "error",
     "traceback": [
      "\u001b[1;31m---------------------------------------------------------------------------\u001b[0m",
      "\u001b[1;31mTypeError\u001b[0m                                 Traceback (most recent call last)",
      "\u001b[1;32m<ipython-input-4-4b3ec9a401c7>\u001b[0m in \u001b[0;36m<module>\u001b[1;34m()\u001b[0m\n\u001b[0;32m      3\u001b[0m \u001b[1;33m\u001b[0m\u001b[0m\n\u001b[0;32m      4\u001b[0m \u001b[1;31m# 五秒钟无键盘输入，自动关闭\u001b[0m\u001b[1;33m\u001b[0m\u001b[1;33m\u001b[0m\u001b[0m\n\u001b[1;32m----> 5\u001b[1;33m \u001b[0mcv2\u001b[0m\u001b[1;33m.\u001b[0m\u001b[0mwaitKey\u001b[0m\u001b[1;33m(\u001b[0m\u001b[1;34m'5000'\u001b[0m\u001b[1;33m)\u001b[0m\u001b[1;33m\u001b[0m\u001b[0m\n\u001b[0m\u001b[0;32m      6\u001b[0m \u001b[1;31m# 输入q关闭图片\u001b[0m\u001b[1;33m\u001b[0m\u001b[1;33m\u001b[0m\u001b[0m\n\u001b[0;32m      7\u001b[0m \u001b[1;32mwhile\u001b[0m\u001b[1;33m(\u001b[0m\u001b[1;32mTrue\u001b[0m\u001b[1;33m)\u001b[0m\u001b[1;33m:\u001b[0m\u001b[1;33m\u001b[0m\u001b[0m\n",
      "\u001b[1;31mTypeError\u001b[0m: an integer is required (got type str)"
     ]
    }
   ],
   "source": [
    "# 显示该图片\n",
    "cv2.imshow('chongqin1', chongqin1)\n",
    "\n",
    "# 五秒钟无键盘输入，自动关闭\n",
    "cv2.waitKey('5000')\n",
    "# 输入q关闭图片\n",
    "while(True):\n",
    "    if cv2.waitKey(0) == ord('q'):\n",
    "        break\n",
    "# 销毁内存中的对象\n",
    "cv2.destroyAllWindows()"
   ]
  },
  {
   "cell_type": "code",
   "execution_count": 2,
   "metadata": {},
   "outputs": [
    {
     "ename": "SyntaxError",
     "evalue": "invalid character in identifier (<ipython-input-2-2157790fab3a>, line 11)",
     "output_type": "error",
     "traceback": [
      "\u001b[1;36m  File \u001b[1;32m\"<ipython-input-2-2157790fab3a>\"\u001b[1;36m, line \u001b[1;32m11\u001b[0m\n\u001b[1;33m    cat_zone = cat_head_detector.detectMultiScale(gray, scaleFactor=1.2， minNeighbors=5， minSize=(40, 40))\u001b[0m\n\u001b[1;37m                                                                       ^\u001b[0m\n\u001b[1;31mSyntaxError\u001b[0m\u001b[1;31m:\u001b[0m invalid character in identifier\n"
     ]
    }
   ],
   "source": [
    "# cv2 识别图片中的人脸，猫脸，狗脸\n",
    "cat = cv2.imread('./cat8.jpg')\n",
    "# 将彩色图片转变成黑白\n",
    "gray = cv2.cvtColor(cat, code=cv2.COLOR_BGR2GRAY)\n",
    "\n",
    "# 对黑白图片识别\n",
    "cat_head_detector = cv2.CascadeClassifier('./haarcascade_frontalcatface.xml')\n",
    "\n",
    "# 使用cat_head_detector其中方法进行检测\n",
    "# scaleFactor 检测图片时，缩放的比例\n",
    "cat_zone = cat_head_detector.detectMultiScale(gray, scaleFactor=1.2， minNeighbors=5， minSize=(40, 40))\n",
    "\n",
    "print(cat_zone)\n",
    "\n",
    "for x,y,w,h in cat_zone:\n",
    "    cv2.rectangle(cat. pt1=(x, y), pt2=(x+w, y+h), color=[0,0,255], thickness=2)\n",
    "\n",
    "cv2.imshow('cat', gray)\n",
    "\n",
    "# 点击任意键盘，退出\n",
    "cv2.waitKey(0)\n",
    "\n",
    "cv2.destroyAllWindows()"
   ]
  },
  {
   "cell_type": "code",
   "execution_count": null,
   "metadata": {},
   "outputs": [],
   "source": []
  }
 ],
 "metadata": {
  "kernelspec": {
   "display_name": "Python 3",
   "language": "python",
   "name": "python3"
  },
  "language_info": {
   "codemirror_mode": {
    "name": "ipython",
    "version": 3
   },
   "file_extension": ".py",
   "mimetype": "text/x-python",
   "name": "python",
   "nbconvert_exporter": "python",
   "pygments_lexer": "ipython3",
   "version": "3.6.5"
  }
 },
 "nbformat": 4,
 "nbformat_minor": 2
}
