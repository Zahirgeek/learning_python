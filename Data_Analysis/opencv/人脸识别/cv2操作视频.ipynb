{
 "cells": [
  {
   "cell_type": "code",
   "execution_count": 4,
   "metadata": {},
   "outputs": [],
   "source": [
    "import numpy as np\n",
    "import cv2"
   ]
  },
  {
   "cell_type": "code",
   "execution_count": 4,
   "metadata": {},
   "outputs": [
    {
     "name": "stdout",
     "output_type": "stream",
     "text": [
      "23.975982666015625\n"
     ]
    }
   ],
   "source": [
    "# 加载视频\n",
    "cap = cv2.VideoCapture('./law.mp4')\n",
    "\n",
    "# frame per second, 一秒多少帧\n",
    "fps = cap.get(cv2.CAP_PROP_FPS)\n",
    "print(fps)\n",
    "\n",
    "# 电影是四维的ndarray + 声音\n",
    "while(cap.isOpened()):\n",
    "    success, frame = cap.read()\n",
    "    \n",
    "    cv2.imshow('law', frame)\n",
    "    cv2.resizeWindow('law', 1024, 576)\n",
    "    \n",
    "    if cv2.waitKey(int(1000//fps)) == ord('q'):\n",
    "        break\n",
    "        \n",
    "cv2.destroyAllWindows()\n"
   ]
  },
  {
   "cell_type": "code",
   "execution_count": 8,
   "metadata": {},
   "outputs": [],
   "source": [
    "\n",
    "# 参数给0， 意味着调用摄像头\n",
    "cap = cv2.VideoCapture(0)\n",
    "\n",
    "face_detector = cv2.CascadeClassifier('./haarcascade_frontalface_alt.xml')\n",
    "\n",
    "eye_detector = cv2.CascadeClassifier('./haarcascade_eye.xml')\n",
    "\n",
    "success, frame = cap.read()\n",
    "\n",
    "eye = cv2.imread('./eye.jpg')\n",
    "\n",
    "while(success):\n",
    "    \n",
    "    # 将图片转为黑白\n",
    "    gray = cv2.cvtColor(frame, code=cv2.COLOR_BGR2GRAY)\n",
    "    \n",
    "    # 选出人脸区域\n",
    "    face_zones = face_detector.detectMultiScale(gray, 1.2, 3, minSize=(50, 50))\n",
    "    \n",
    "    for x,y,w,h in face_zones:\n",
    "        cv2.circle(frame, center=(x+w//2, y + h//2), radius=w//2, color=[0, 0, 255], thickness=2)\n",
    "        \n",
    "    eye_zones = eye_detector.detectMultiScale(frame[y:y+h, x:x+w], 1.1, 3, minSize=(15, 15))\n",
    "    \n",
    "    for ex,ey,ew,eh in eye_zones:\n",
    "        eye2 = cv2.resize(eye, dsize=(ew, eh))\n",
    "        # 摄像头眼睛替换\n",
    "        frame[y + ey:y+ey +eh,x + ex:x+ex + ew] = eye2\n",
    "        \n",
    "    cv2.imshow('capture', frame)\n",
    "    \n",
    "    if cv2.waitKey(41) == ord('q'):\n",
    "        break\n",
    "        \n",
    "    success, frame = cap.read()\n",
    "        \n",
    "# 摄像头退出\n",
    "cap.release()\n",
    "cv2.destroyAllWindows()"
   ]
  },
  {
   "cell_type": "code",
   "execution_count": 13,
   "metadata": {},
   "outputs": [
    {
     "name": "stdout",
     "output_type": "stream",
     "text": [
      "[[ 47 198  55  55]]\n"
     ]
    }
   ],
   "source": [
    "print(face_zones)"
   ]
  }
 ],
 "metadata": {
  "kernelspec": {
   "display_name": "Python 3",
   "language": "python",
   "name": "python3"
  },
  "language_info": {
   "codemirror_mode": {
    "name": "ipython",
    "version": 3
   },
   "file_extension": ".py",
   "mimetype": "text/x-python",
   "name": "python",
   "nbconvert_exporter": "python",
   "pygments_lexer": "ipython3",
   "version": "3.6.5"
  }
 },
 "nbformat": 4,
 "nbformat_minor": 2
}
