{
 "cells": [
  {
   "cell_type": "code",
   "execution_count": 1,
   "metadata": {},
   "outputs": [],
   "source": [
    "import cv2"
   ]
  },
  {
   "cell_type": "code",
   "execution_count": 2,
   "metadata": {},
   "outputs": [],
   "source": [
    "import numpy as np"
   ]
  },
  {
   "cell_type": "code",
   "execution_count": 3,
   "metadata": {},
   "outputs": [],
   "source": [
    "yong = cv2.imread('./yong.jpg')\n",
    "\n",
    "gray = cv2.cvtColor(yong, code=6)\n",
    "\n",
    "face_detector = cv2.CascadeClassifier('./haarcascade_frontalface_alt.xml')\n",
    "\n",
    "face_zone = face_detector.detectMultiScale(gray, scaleFactor=1.2, minNeighbors=5, minSize=(20, 20), maxSize=(150, 150))\n",
    "\n",
    "for x,y,w,h in face_zone:\n",
    "    cv2.rectangle(yong, pt1=(x, y), pt2=(x+w, y+h), color=[0,0,255], thickness=2)\n",
    "    \n",
    "cv2.imshow('yong', yong)\n",
    "\n",
    "while(True):\n",
    "    if cv2.waitKey(0) == ord('q'):\n",
    "        break\n",
    "cv2.destroyAllWindows()"
   ]
  },
  {
   "cell_type": "code",
   "execution_count": null,
   "metadata": {},
   "outputs": [],
   "source": [
    "# 多张人脸，检测出来，绘制成圆形\n",
    "image = cv2.imread('./meinv.png')\n",
    "\n",
    "gray = cv2.cvtColor(yong, code=6)\n",
    "\n",
    "face_detector = cv2.CascadeClassifier('./haarcascade_frontalface_alt.xml')\n",
    "\n",
    "face_zone = face_detector.detectMultiScale(gray, scaleFactor=1.2, minNeighbors=5, minSize=(20, 20), maxSize=(150, 150))\n",
    "\n",
    "for x,y,w,h in face_zone:\n",
    "#     cv2.rectangle(image, pt1=(x, y), pt2=(x+w, y+h), color=[0,0,255], thickness=2)\n",
    "    cv2.circle(img = image,center = (x + w//2,y + h//2),radius = w//2,color = [0,255,0],thickness = 2)\n",
    "    \n",
    "cv2.imshow('image', image)\n",
    "\n",
    "while(True):\n",
    "    if cv2.waitKey(0) == ord('q'):\n",
    "        break\n",
    "cv2.destroyAllWindows()"
   ]
  },
  {
   "cell_type": "code",
   "execution_count": 8,
   "metadata": {},
   "outputs": [],
   "source": [
    "image = cv2.imread('./bb.jpg')\n",
    "\n",
    "# 对image这个大图片进行尺寸的缩放\n",
    "cv2.resize(image, dsize=(1080, 607))\n",
    "\n",
    "gray = cv2.cvtColor(image, code=6)\n",
    "\n",
    "face_detector = cv2.CascadeClassifier('./haarcascade_frontalface_alt.xml')\n",
    "\n",
    "face_zone = face_detector.detectMultiScale(gray, scaleFactor=1.1, minNeighbors=3, minSize=(20, 20), maxSize=(150, 150))\n",
    "\n",
    "for x,y,w,h in face_zone:\n",
    "#     cv2.rectangle(image, pt1=(x, y), pt2=(x+w, y+h), color=[0,0,255], thickness=2)\n",
    "    cv2.circle(img=image, center=(x+w//2, y+h//2), radius=w//2, color=[0,0,255], thickness=2)\n",
    "    \n",
    "cv2.imshow('image', image)\n",
    "\n",
    "while(True):\n",
    "    if cv2.waitKey(0) == ord('q'):\n",
    "        break\n",
    "cv2.destroyAllWindows()"
   ]
  }
 ],
 "metadata": {
  "kernelspec": {
   "display_name": "Python 3",
   "language": "python",
   "name": "python3"
  },
  "language_info": {
   "codemirror_mode": {
    "name": "ipython",
    "version": 3
   },
   "file_extension": ".py",
   "mimetype": "text/x-python",
   "name": "python",
   "nbconvert_exporter": "python",
   "pygments_lexer": "ipython3",
   "version": "3.6.5"
  }
 },
 "nbformat": 4,
 "nbformat_minor": 2
}
